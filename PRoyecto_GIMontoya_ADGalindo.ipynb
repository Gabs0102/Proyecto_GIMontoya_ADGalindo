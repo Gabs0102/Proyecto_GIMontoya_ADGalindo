{
 "cells": [
  {
   "cell_type": "markdown",
   "metadata": {},
   "source": [
    "<img style=\"float: left; margin: 35px 20px 20px 20px;\" src=\"https://pngimage.net/wp-content/uploads/2018/06/logo-iteso-png-5.png\" width=\"300\" height=\"500\" /> \n",
    "    \n",
    "    \n",
    "### <font color='navy'> Simulación de procesos financieros. \n",
    "\n",
    "**Nombres:** Ariadna Galindo y Gabriela Montoya \n",
    "\n",
    "**Fecha:** 20 de octubre del 2020.\n",
    "\n",
    "**Expediente** : 718272 y 715478.\n",
    "\n",
    "**Profesor:** Oscar David Jaramillo Zuluaga.\n",
    "\n",
    "**Repositorio:** https://github.com/ariadnagalindom/Proyecto_GIMontoya_ADGalindo\n",
    "    "
   ]
  },
  {
   "cell_type": "markdown",
   "metadata": {},
   "source": [
    "___\n",
    "## 1. Entregable.\n",
    "\n",
    "### 1.1 Turismo en JALISCO\n",
    "> A lo largo de este proyecto se simularán viajes posibles \n",
    "\n",
    "### 1.2 Objetivos.\n",
    "> #### 1.1 Generar propuestas de valor para aumentar el turismo \n",
    ">  - Simular diferentes perfiles de turistas para dos zonas diferentes de Jalisco y en base al perfil más común generar propuestas de valor para promover el turismo en cada zona.  \n",
    "> #### 1.2 Objetivos específicos\n",
    "> - Determinar los dos lugares con mayor turismo de Jalisco.\n",
    "> - Calcular el turista más común para cada zona.\n",
    "> - Proponer implementaciones para aumentar el turismo en cada zona.\n",
    "\n",
    "### 1.3 Definición del problema.\n",
    "> En el año 2019 se vivieron situaciones normales diferentes a las actuales por la pandemía y uno de los sectores más afectados es el de turismo. Con la reactivación gradual que se está dando de la economía es importante preveer medidas estratégicas para la recuperación de la economía. \n",
    "\n",
    "> Para proponer estrategías primero debemos de enfocarnos a quién van dirigidas y que estas sean lo más acertivas posible. Es por esto que proponemos encontrar el perfil del turista más común en años pasados para las dos zonas más turistícas del estado de Jalisco. \n",
    "\n",
    "> Se va a simular en base a los datos del turismo en Jalisco y sus zonas más importantes en el turismo del año pasado. \n",
    "\n",
    "<img src=\"Diagrama.png\">\n",
    "\n",
    "### 1.4 Nodos y variables que se decidieron simular y porqué\n",
    "> Los nodos a utilizar tienen que ver con características sociológicas de los turistas de Jalisco en el año pasado tales como: \n",
    "> - Foráneo o nacional\n",
    "> - Rango de edad\n",
    "> - Estado civil \n",
    "> - Nivel de educación \n",
    "> - Motivación del viaje\n",
    "\n",
    "### 1.5 Definición de hipótesis y supuestos.\n",
    "**Hipótesis**\n",
    "- $H_1$: \n",
    "- \n",
    "\n",
    "**Suposiciones**\n",
    "- El turismo se mueve igual este año al pasado\n",
    "- Con el perfil más común de turista se puede atraer a más del mismo tipo\n",
    "- Las estrategías para el perfil de turista más común impulsará el turismo \n",
    "\n",
    "### 1.6 Obtención de bases de datos\n",
    "> Los datos necesitados han sido obtenidos de: https://secturjal.jalisco.gob.mx/invierte-en-jalisco/estadisticas\n",
    "> Donde encontramos diferentes datos sobre los turistas que hibieron el 2019 en Jalisco. Hay datos de Turistas nacionales e internacionales. No hay datos sobre los gastos en el viaje, pero hay datos sobre aspectos económicos de los turistas como ingresos mensuales. \n",
    "\n",
    "Para los primeros cuatro nodos podemos verlos en las características sociológicas, mientras que el motivo del viaje lo encontramos dentro de la información respecto al viaje. "
   ]
  },
  {
   "cell_type": "code",
   "execution_count": 1,
   "metadata": {},
   "outputs": [],
   "source": [
    "#librerias\n",
    "import pandas as pd\n",
    "import numpy as np\n",
    "import matplotlib.pyplot as plt\n",
    "import statistics as st\n",
    "import seaborn as sns\n",
    "%matplotlib inline"
   ]
  },
  {
   "cell_type": "code",
   "execution_count": 51,
   "metadata": {},
   "outputs": [],
   "source": [
    "#importamos base de datos sociológicos \n",
    "data=pd.read_excel('anuario_2019.xlsx', sheet_name=\"2.3 Determinantes Sociológicos\", usecols=\"A,B,C,F\",header=None,index_col=0).dropna()\n",
    "#segmentamos la base de datos para generar variables \n",
    "nac_edad=data.iloc[8:16]#quitar total?\n",
    "int_edad=data.iloc[16:24]\n",
    "nac_civil=data.iloc[24:31]\n",
    "int_civil=data.iloc[31:38]\n",
    "nac_school=data.iloc[38:46]\n",
    "int_school=data.iloc[46:54]\n",
    "#importamos base de datos económicos\n",
    "data2=pd.read_excel('anuario_2019.xlsx', sheet_name=\"Determinantes económicos\", usecols=\"A,B,C,F\",header=None,index_col=0).dropna()\n",
    "nac_ingreso=data2.iloc[1:8]\n",
    "int_ingreso=data2.iloc[8:16]\n",
    "nac_ofi=data2.iloc[16:33]"
   ]
  },
  {
   "cell_type": "markdown",
   "metadata": {},
   "source": [
    "### 1.7 Referencias.\n",
    "> https://secturjal.jalisco.gob.mx/invierte-en-jalisco/estadisticas\n",
    "> Citar (en formato APA) la bibliografía utilizada."
   ]
  }
 ],
 "metadata": {
  "kernelspec": {
   "display_name": "Python 3",
   "language": "python",
   "name": "python3"
  },
  "language_info": {
   "codemirror_mode": {
    "name": "ipython",
    "version": 3
   },
   "file_extension": ".py",
   "mimetype": "text/x-python",
   "name": "python",
   "nbconvert_exporter": "python",
   "pygments_lexer": "ipython3",
   "version": "3.8.3"
  }
 },
 "nbformat": 4,
 "nbformat_minor": 4
}

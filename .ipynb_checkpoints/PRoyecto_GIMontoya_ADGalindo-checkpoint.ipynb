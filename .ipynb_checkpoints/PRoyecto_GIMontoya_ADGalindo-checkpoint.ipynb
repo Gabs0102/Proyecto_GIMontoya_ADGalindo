{
 "cells": [
  {
   "cell_type": "markdown",
   "metadata": {},
   "source": [
    "<img style=\"float: left; margin: 35px 20px 20px 20px;\" src=\"https://pngimage.net/wp-content/uploads/2018/06/logo-iteso-png-5.png\" width=\"300\" height=\"500\" /> \n",
    "    \n",
    "    \n",
    "### <font color='navy'> Simulación de procesos financieros. \n",
    "\n",
    "**Nombres:** Ariadna Galindo y Gabriela Montoya \n",
    "\n",
    "**Fecha:** 20 de octubre del 2020.\n",
    "\n",
    "**Expediente** : 718272 y 715478.\n",
    "\n",
    "**Profesor:** Oscar David Jaramillo Zuluaga.\n",
    "\n",
    "**Repositorio:** https://github.com/ariadnagalindom/Proyecto_GIMontoya_ADGalindo\n",
    "    "
   ]
  },
  {
   "cell_type": "markdown",
   "metadata": {},
   "source": [
    "___\n",
    "## 1. Entregable.\n",
    "\n",
    "### 1.1 Turismo en JALISCO\n",
    "> A lo largo de este proyecto se simularán viajes posibles \n",
    "\n",
    "### 1.2 Objetivos.\n",
    "> #### 1.1 Generar propuestas de valor para aumentar el turismo \n",
    ">  - Simular diferentes perfiles de turistas para dos zonas diferentes de Jalisco y en base al perfil más común generar propuestas de valor para promover el turismo en cada zona.  \n",
    "> #### 1.2 Objetivos específicos\n",
    "> - Determinar los dos lugares con mayor turismo de Jalisco.\n",
    "> - Calcular el turista más común para cada zona.\n",
    "> - Proponer implementaciones para aumentar el turismo en cada zona.\n",
    "\n",
    "### 1.3 Definición del problema.\n",
    "> En el año 2019 se vivieron situaciones normales diferentes a las actuales por la pandemía y uno de los sectores más afectados es el de turismo. Con la reactivación gradual que se está dando de la economía es importante preveer medidas estratégicas para la recuperación de la economía. \n",
    "\n",
    "> Para proponer estrategías primero debemos de enfocarnos a quién van dirigidas y que estas sean lo más acertivas posible. Es por esto que proponemos encontrar el perfil del turista más común en años pasados para las dos zonas más turistícas del estado de Jalisco. \n",
    "\n",
    "> Se va a simular en base a los datos del turismo en Jalisco y sus zonas más importantes en el turismo del año pasado. \n",
    "\n",
    "<img src=\"Diagrama.png\">\n",
    "\n",
    "### 1.4 Nodos y variables que se decidieron simular y porqué\n",
    "> Los nodos a utilizar tienen que ver con características sociológicas de los turistas de Jalisco en el año pasado tales como: \n",
    "> - Foráneo o nacional\n",
    "> - Rango de edad\n",
    "> - Estado civil \n",
    "> - Nivel de educación \n",
    "> - Motivación del viaje\n",
    "\n",
    "### 1.5 Definición de hipótesis y supuestos.\n",
    "**Hipótesis**\n",
    "- $H_1$: \n",
    "- \n",
    "\n",
    "**Suposiciones**\n",
    "- El turismo se mueve igual este año al pasado\n",
    "- Con el perfil más común de turista se puede atraer a más del mismo tipo\n",
    "- Las estrategías para el perfil de turista más común impulsará el turismo \n",
    "\n",
    "### 1.6 Obtención de bases de datos\n",
    "> Los datos necesitados han sido obtenidos de: https://secturjal.jalisco.gob.mx/invierte-en-jalisco/estadisticas\n",
    "> Donde encontramos diferentes datos sobre los turistas que hibieron el 2019 en Jalisco. Hay datos de Turistas nacionales e internacionales. No hay datos sobre los gastos en el viaje, pero hay datos sobre aspectos económicos de los turistas como ingresos mensuales. \n",
    "\n",
    "Para los primeros cuatro nodos podemos verlos en las características sociológicas, mientras que el motivo del viaje lo encontramos dentro de la información respecto al viaje. "
   ]
  },
  {
   "cell_type": "code",
   "execution_count": 16,
   "metadata": {},
   "outputs": [],
   "source": [
    "#librerias\n",
    "import pandas as pd\n",
    "import numpy as np\n",
    "import matplotlib.pyplot as plt\n",
    "import statistics as st\n",
    "import seaborn as sns\n",
    "%matplotlib inline\n",
    "import numpy as np\n",
    "from sklearn.neighbors import KernelDensity\n",
    "from scipy.stats import gaussian_kde\n",
    "from statsmodels.nonparametric.kde import KDEUnivariate\n",
    "from statsmodels.nonparametric.kernel_density import KDEMultivariate\n",
    "from scipy.stats.distributions import norm"
   ]
  },
  {
   "cell_type": "code",
   "execution_count": 53,
   "metadata": {},
   "outputs": [],
   "source": [
    "#importamos base de datos sociológicos \n",
    "data=pd.read_excel('anuario_2019.xlsx', sheet_name=\"2.3 Determinantes Sociológicos\", usecols=\"A,B,C,F\",header=None,index_col=0).dropna()\n",
    "#segmentamos la base de datos para generar variables \n",
    "nac_edad=data.iloc[9:16]#quitar total?\n",
    "int_edad=data.iloc[16:24]\n",
    "nac_civil=data.iloc[24:31]\n",
    "int_civil=data.iloc[31:38]\n",
    "nac_school=data.iloc[38:46]\n",
    "int_school=data.iloc[46:54]\n",
    "\n",
    "#importamos base de datos económicos\n",
    "data2=pd.read_excel('anuario_2019.xlsx', sheet_name=\"Respecto del viaje\", usecols=\"A,B,C,F\",header=None,index_col=0).dropna()\n",
    "nac_motiv=data2.iloc[11:21]\n",
    "int_motiv=data2.iloc[21:31]"
   ]
  },
  {
   "cell_type": "code",
   "execution_count": 54,
   "metadata": {},
   "outputs": [
    {
     "data": {
      "text/html": [
       "<div>\n",
       "<style scoped>\n",
       "    .dataframe tbody tr th:only-of-type {\n",
       "        vertical-align: middle;\n",
       "    }\n",
       "\n",
       "    .dataframe tbody tr th {\n",
       "        vertical-align: top;\n",
       "    }\n",
       "\n",
       "    .dataframe thead th {\n",
       "        text-align: right;\n",
       "    }\n",
       "</style>\n",
       "<table border=\"1\" class=\"dataframe\">\n",
       "  <thead>\n",
       "    <tr style=\"text-align: right;\">\n",
       "      <th></th>\n",
       "      <th>1</th>\n",
       "      <th>2</th>\n",
       "      <th>5</th>\n",
       "    </tr>\n",
       "    <tr>\n",
       "      <th>0</th>\n",
       "      <th></th>\n",
       "      <th></th>\n",
       "      <th></th>\n",
       "    </tr>\n",
       "  </thead>\n",
       "  <tbody>\n",
       "    <tr>\n",
       "      <th>15 a 25</th>\n",
       "      <td>0.107623</td>\n",
       "      <td>0.16171</td>\n",
       "      <td>0.161702</td>\n",
       "    </tr>\n",
       "    <tr>\n",
       "      <th>26 a 34</th>\n",
       "      <td>0.360987</td>\n",
       "      <td>0.263941</td>\n",
       "      <td>0.480851</td>\n",
       "    </tr>\n",
       "    <tr>\n",
       "      <th>35 a 44</th>\n",
       "      <td>0.186099</td>\n",
       "      <td>0.252788</td>\n",
       "      <td>0.195745</td>\n",
       "    </tr>\n",
       "    <tr>\n",
       "      <th>45 a 54</th>\n",
       "      <td>0.195067</td>\n",
       "      <td>0.17658</td>\n",
       "      <td>0.0765957</td>\n",
       "    </tr>\n",
       "    <tr>\n",
       "      <th>55 a 64</th>\n",
       "      <td>0.112108</td>\n",
       "      <td>0.105948</td>\n",
       "      <td>0.0382979</td>\n",
       "    </tr>\n",
       "    <tr>\n",
       "      <th>65 y más</th>\n",
       "      <td>0.0381166</td>\n",
       "      <td>0.0390335</td>\n",
       "      <td>0.0468085</td>\n",
       "    </tr>\n",
       "    <tr>\n",
       "      <th>TOTAL</th>\n",
       "      <td>1</td>\n",
       "      <td>1</td>\n",
       "      <td>1</td>\n",
       "    </tr>\n",
       "  </tbody>\n",
       "</table>\n",
       "</div>"
      ],
      "text/plain": [
       "                  1          2          5\n",
       "0                                        \n",
       "15 a 25    0.107623    0.16171   0.161702\n",
       "26 a 34    0.360987   0.263941   0.480851\n",
       "35 a 44    0.186099   0.252788   0.195745\n",
       "45 a 54    0.195067    0.17658  0.0765957\n",
       "55 a 64    0.112108   0.105948  0.0382979\n",
       "65 y más  0.0381166  0.0390335  0.0468085\n",
       "TOTAL             1          1          1"
      ]
     },
     "execution_count": 54,
     "metadata": {},
     "output_type": "execute_result"
    }
   ],
   "source": [
    "nac_edad"
   ]
  },
  {
   "cell_type": "code",
   "execution_count": 55,
   "metadata": {},
   "outputs": [
    {
     "name": "stdout",
     "output_type": "stream",
     "text": [
      "media 1    0.285714\n",
      "2    0.285714\n",
      "5    0.285714\n",
      "dtype: float64 desviación 1    0.330951\n",
      "2    0.324607\n",
      "5    0.349709\n",
      "dtype: float64\n"
     ]
    }
   ],
   "source": [
    "edad = nac_edad.mean()\n",
    "des_edad = nac_edad.std()\n",
    "print('media', edad, 'desviación', des_edad)"
   ]
  },
  {
   "cell_type": "code",
   "execution_count": null,
   "metadata": {},
   "outputs": [],
   "source": []
  },
  {
   "cell_type": "code",
   "execution_count": 12,
   "metadata": {},
   "outputs": [
    {
     "name": "stdout",
     "output_type": "stream",
     "text": [
      "Package Versions:\n",
      "  scikit-learn: 0.23.1\n",
      "  scipy: 1.5.0\n",
      "  statsmodels: 0.11.1\n"
     ]
    }
   ],
   "source": [
    "def kde_scipy(x, x_grid, bandwidth=0.2, **kwargs):\n",
    "    \"\"\"Kernel Density Estimation with Scipy\"\"\"\n",
    "    # Note that scipy weights its bandwidth by the covariance of the\n",
    "    # input data.  To make the results comparable to the other methods,\n",
    "    # we divide the bandwidth by the sample standard deviation here.\n",
    "    kde = gaussian_kde(x, bw_method=bandwidth / x.std(ddof=1), **kwargs)\n",
    "    return kde.evaluate(x_grid)\n",
    "\n",
    "\n",
    "def kde_statsmodels_u(x, x_grid, bandwidth=0.2, **kwargs):\n",
    "    \"\"\"Univariate Kernel Density Estimation with Statsmodels\"\"\"\n",
    "    kde = KDEUnivariate(x)\n",
    "    kde.fit(bw=bandwidth, **kwargs)\n",
    "    return kde.evaluate(x_grid)\n",
    "    \n",
    "    \n",
    "def kde_statsmodels_m(x, x_grid, bandwidth=0.2, **kwargs):\n",
    "    \"\"\"Multivariate Kernel Density Estimation with Statsmodels\"\"\"\n",
    "    kde = KDEMultivariate(x, \n",
    "                          bw='cv_ml',  #bandwidth * np.ones_like(x),\n",
    "                          var_type='c', **kwargs)\n",
    "    return kde.pdf(x_grid)\n",
    "\n",
    "\n",
    "def kde_sklearn(x, x_grid, bandwidth=0.2, **kwargs):\n",
    "    \"\"\"Kernel Density Estimation with Scikit-learn\"\"\"\n",
    "    kde_skl = KernelDensity(bandwidth=bandwidth, **kwargs)\n",
    "    kde_skl.fit(x[:, np.newaxis])\n",
    "    # score_samples() returns the log-likelihood of the samples\n",
    "    log_pdf = kde_skl.score_samples(x_grid[:, np.newaxis])\n",
    "    return np.exp(log_pdf)\n",
    "\n",
    "\n",
    "kde_funcs = [kde_statsmodels_u, kde_statsmodels_m, kde_scipy, kde_sklearn]\n",
    "kde_funcnames = ['Statsmodels-U', 'Statsmodels-M', 'Scipy', 'Scikit-learn']\n",
    "\n",
    "print( \"Package Versions:\")\n",
    "import sklearn; print( \"  scikit-learn:\", sklearn.__version__)\n",
    "import scipy; print (\"  scipy:\", scipy.__version__)\n",
    "import statsmodels; print( \"  statsmodels:\", statsmodels.__version__)"
   ]
  },
  {
   "cell_type": "code",
   "execution_count": 20,
   "metadata": {},
   "outputs": [
    {
     "ename": "TypeError",
     "evalue": "ufunc 'isnan' not supported for the input types, and the inputs could not be safely coerced to any supported types according to the casting rule ''safe''",
     "output_type": "error",
     "traceback": [
      "\u001b[0;31m---------------------------------------------------------------------------\u001b[0m",
      "\u001b[0;31mTypeError\u001b[0m                                 Traceback (most recent call last)",
      "\u001b[0;32m<ipython-input-20-9b65c1830f74>\u001b[0m in \u001b[0;36m<module>\u001b[0;34m\u001b[0m\n\u001b[1;32m      4\u001b[0m x = np.concatenate([norm(-1, 1.).rvs(400),\n\u001b[1;32m      5\u001b[0m                     norm(1, 0.3).rvs(100)])\n\u001b[0;32m----> 6\u001b[0;31m pdf_true = (0.8 * norm(-1, 1).pdf(x_grid) +\n\u001b[0m\u001b[1;32m      7\u001b[0m             0.2 * norm(1, 0.3).pdf(x_grid))\n\u001b[1;32m      8\u001b[0m \u001b[0;34m\u001b[0m\u001b[0m\n",
      "\u001b[0;32m~/opt/anaconda3/lib/python3.8/site-packages/scipy/stats/_distn_infrastructure.py\u001b[0m in \u001b[0;36mpdf\u001b[0;34m(self, x)\u001b[0m\n\u001b[1;32m    434\u001b[0m \u001b[0;34m\u001b[0m\u001b[0m\n\u001b[1;32m    435\u001b[0m     \u001b[0;32mdef\u001b[0m \u001b[0mpdf\u001b[0m\u001b[0;34m(\u001b[0m\u001b[0mself\u001b[0m\u001b[0;34m,\u001b[0m \u001b[0mx\u001b[0m\u001b[0;34m)\u001b[0m\u001b[0;34m:\u001b[0m   \u001b[0;31m# raises AttributeError in frozen discrete distribution\u001b[0m\u001b[0;34m\u001b[0m\u001b[0;34m\u001b[0m\u001b[0m\n\u001b[0;32m--> 436\u001b[0;31m         \u001b[0;32mreturn\u001b[0m \u001b[0mself\u001b[0m\u001b[0;34m.\u001b[0m\u001b[0mdist\u001b[0m\u001b[0;34m.\u001b[0m\u001b[0mpdf\u001b[0m\u001b[0;34m(\u001b[0m\u001b[0mx\u001b[0m\u001b[0;34m,\u001b[0m \u001b[0;34m*\u001b[0m\u001b[0mself\u001b[0m\u001b[0;34m.\u001b[0m\u001b[0margs\u001b[0m\u001b[0;34m,\u001b[0m \u001b[0;34m**\u001b[0m\u001b[0mself\u001b[0m\u001b[0;34m.\u001b[0m\u001b[0mkwds\u001b[0m\u001b[0;34m)\u001b[0m\u001b[0;34m\u001b[0m\u001b[0;34m\u001b[0m\u001b[0m\n\u001b[0m\u001b[1;32m    437\u001b[0m \u001b[0;34m\u001b[0m\u001b[0m\n\u001b[1;32m    438\u001b[0m     \u001b[0;32mdef\u001b[0m \u001b[0mlogpdf\u001b[0m\u001b[0;34m(\u001b[0m\u001b[0mself\u001b[0m\u001b[0;34m,\u001b[0m \u001b[0mx\u001b[0m\u001b[0;34m)\u001b[0m\u001b[0;34m:\u001b[0m\u001b[0;34m\u001b[0m\u001b[0;34m\u001b[0m\u001b[0m\n",
      "\u001b[0;32m~/opt/anaconda3/lib/python3.8/site-packages/scipy/stats/_distn_infrastructure.py\u001b[0m in \u001b[0;36mpdf\u001b[0;34m(self, x, *args, **kwds)\u001b[0m\n\u001b[1;32m   1763\u001b[0m         \u001b[0mcond\u001b[0m \u001b[0;34m=\u001b[0m \u001b[0mcond0\u001b[0m \u001b[0;34m&\u001b[0m \u001b[0mcond1\u001b[0m\u001b[0;34m\u001b[0m\u001b[0;34m\u001b[0m\u001b[0m\n\u001b[1;32m   1764\u001b[0m         \u001b[0moutput\u001b[0m \u001b[0;34m=\u001b[0m \u001b[0mzeros\u001b[0m\u001b[0;34m(\u001b[0m\u001b[0mshape\u001b[0m\u001b[0;34m(\u001b[0m\u001b[0mcond\u001b[0m\u001b[0;34m)\u001b[0m\u001b[0;34m,\u001b[0m \u001b[0mdtyp\u001b[0m\u001b[0;34m)\u001b[0m\u001b[0;34m\u001b[0m\u001b[0;34m\u001b[0m\u001b[0m\n\u001b[0;32m-> 1765\u001b[0;31m         \u001b[0mputmask\u001b[0m\u001b[0;34m(\u001b[0m\u001b[0moutput\u001b[0m\u001b[0;34m,\u001b[0m \u001b[0;34m(\u001b[0m\u001b[0;36m1\u001b[0m\u001b[0;34m-\u001b[0m\u001b[0mcond0\u001b[0m\u001b[0;34m)\u001b[0m\u001b[0;34m+\u001b[0m\u001b[0mnp\u001b[0m\u001b[0;34m.\u001b[0m\u001b[0misnan\u001b[0m\u001b[0;34m(\u001b[0m\u001b[0mx\u001b[0m\u001b[0;34m)\u001b[0m\u001b[0;34m,\u001b[0m \u001b[0mself\u001b[0m\u001b[0;34m.\u001b[0m\u001b[0mbadvalue\u001b[0m\u001b[0;34m)\u001b[0m\u001b[0;34m\u001b[0m\u001b[0;34m\u001b[0m\u001b[0m\n\u001b[0m\u001b[1;32m   1766\u001b[0m         \u001b[0;32mif\u001b[0m \u001b[0mnp\u001b[0m\u001b[0;34m.\u001b[0m\u001b[0many\u001b[0m\u001b[0;34m(\u001b[0m\u001b[0mcond\u001b[0m\u001b[0;34m)\u001b[0m\u001b[0;34m:\u001b[0m\u001b[0;34m\u001b[0m\u001b[0;34m\u001b[0m\u001b[0m\n\u001b[1;32m   1767\u001b[0m             \u001b[0mgoodargs\u001b[0m \u001b[0;34m=\u001b[0m \u001b[0margsreduce\u001b[0m\u001b[0;34m(\u001b[0m\u001b[0mcond\u001b[0m\u001b[0;34m,\u001b[0m \u001b[0;34m*\u001b[0m\u001b[0;34m(\u001b[0m\u001b[0;34m(\u001b[0m\u001b[0mx\u001b[0m\u001b[0;34m,\u001b[0m\u001b[0;34m)\u001b[0m\u001b[0;34m+\u001b[0m\u001b[0margs\u001b[0m\u001b[0;34m+\u001b[0m\u001b[0;34m(\u001b[0m\u001b[0mscale\u001b[0m\u001b[0;34m,\u001b[0m\u001b[0;34m)\u001b[0m\u001b[0;34m)\u001b[0m\u001b[0;34m)\u001b[0m\u001b[0;34m\u001b[0m\u001b[0;34m\u001b[0m\u001b[0m\n",
      "\u001b[0;31mTypeError\u001b[0m: ufunc 'isnan' not supported for the input types, and the inputs could not be safely coerced to any supported types according to the casting rule ''safe''"
     ]
    }
   ],
   "source": [
    "# Plot the three kernel density estimates\n",
    "x_grid = nac_edad\n",
    "np.random.seed(0)\n",
    "x = np.concatenate([norm(-1, 1.).rvs(400),\n",
    "                    norm(1, 0.3).rvs(100)])\n",
    "pdf_true = (0.8 * norm(-1, 1).pdf(x_grid) +\n",
    "            0.2 * norm(1, 0.3).pdf(x_grid))\n",
    "\n",
    "# Plot the three kernel density estimates\n",
    "fig, ax = plt.subplots(1, 4, sharey=True,\n",
    "                       figsize=(13, 3))\n",
    "fig.subplots_adjust(wspace=0)\n",
    "\n",
    "for i in range(4):\n",
    "    pdf = kde_funcs[i](x, x_grid, bandwidth=0.2)\n",
    "    ax[i].plot(x_grid, pdf, color='blue', alpha=0.5, lw=3)\n",
    "    ax[i].fill(x_grid, pdf_true, ec='gray', fc='gray', alpha=0.4)\n",
    "    ax[i].set_title(kde_funcnames[i])\n",
    "    ax[i].set_xlim(-4.5, 3.5)\n",
    "    \n",
    "from IPython.display import HTML\n",
    "HTML(\"<font color='#666666'>Gray = True underlying distribution</font><br>\"\n",
    "     \"<font color='6666ff'>Blue = KDE model distribution (500 pts)</font>\")"
   ]
  },
  {
   "cell_type": "markdown",
   "metadata": {},
   "source": [
    "### 1.7 Referencias.\n",
    "> https://secturjal.jalisco.gob.mx/invierte-en-jalisco/estadisticas\n",
    "> Citar (en formato APA) la bibliografía utilizada."
   ]
  }
 ],
 "metadata": {
  "kernelspec": {
   "display_name": "Python 3",
   "language": "python",
   "name": "python3"
  },
  "language_info": {
   "codemirror_mode": {
    "name": "ipython",
    "version": 3
   },
   "file_extension": ".py",
   "mimetype": "text/x-python",
   "name": "python",
   "nbconvert_exporter": "python",
   "pygments_lexer": "ipython3",
   "version": "3.8.3"
  }
 },
 "nbformat": 4,
 "nbformat_minor": 4
}
